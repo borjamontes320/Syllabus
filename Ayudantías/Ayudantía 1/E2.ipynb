{
  "nbformat": 4,
  "nbformat_minor": 0,
  "metadata": {
    "colab": {
      "provenance": []
    },
    "kernelspec": {
      "name": "python3",
      "display_name": "Python 3"
    },
    "language_info": {
      "name": "python"
    }
  },
  "cells": [
    {
      "cell_type": "markdown",
      "source": [
        "# Ejercicio Formativo 2 Capítulo 1"
      ],
      "metadata": {
        "id": "kEYD-RvQYidj"
      }
    },
    {
      "cell_type": "markdown",
      "source": [
        "20 de Marzo 2025\n",
        "\n",
        "Juan Pablo Tapia\n",
        "\n",
        "jp.tapia@uc.cl"
      ],
      "metadata": {
        "id": "XleI0D7tm4FK"
      }
    },
    {
      "cell_type": "markdown",
      "source": [
        "## Descripción de los datos"
      ],
      "metadata": {
        "id": "pZSerTvnCvRw"
      }
    },
    {
      "cell_type": "code",
      "source": [
        "import json\n",
        "with open('movies.json', encoding = 'utf8') as movies_file:\n",
        "  movies = json.load(movies_file)"
      ],
      "metadata": {
        "id": "w3G3x_KVCoL5"
      },
      "execution_count": 37,
      "outputs": []
    },
    {
      "cell_type": "code",
      "source": [
        "print(f\"El tipo de movies es {type(movies)}\")\n",
        "print(f\"Movies tiene {len(movies)} elementos\")\n",
        "print(f\"El primer elemento de movies es {movies[0]}\")\n",
        "print(f\"El primer elemento es del tipo {type(movies[0])}\")"
      ],
      "metadata": {
        "colab": {
          "base_uri": "https://localhost:8080/"
        },
        "id": "jfUXU0OwCsdB",
        "outputId": "148d6b3e-bec4-4b4b-a7ca-4a6fc8a68758"
      },
      "execution_count": 38,
      "outputs": [
        {
          "output_type": "stream",
          "name": "stdout",
          "text": [
            "El tipo de movies es <class 'list'>\n",
            "Movies tiene 28795 elementos\n",
            "El primer elemento de movies es {'title': 'After Dark in Central Park', 'year': 1900, 'cast': [], 'genres': []}\n",
            "El primer elemento es del tipo <class 'dict'>\n"
          ]
        }
      ]
    },
    {
      "cell_type": "markdown",
      "source": [
        "## Misión 1: modelación de entidades"
      ],
      "metadata": {
        "id": "irVAbVyiC1J6"
      }
    },
    {
      "cell_type": "code",
      "source": [
        "class Actor:\n",
        "    def __init__(self, full_name, start_career):\n",
        "        self.full_name = full_name\n",
        "        self.n_movies = 0\n",
        "        self.start_career = start_career\n",
        "        self.end_career = start_career\n",
        "\n",
        "    def update_track_record(self, year):\n",
        "        if self.start_career > year:\n",
        "            self.start_career = year\n",
        "        if self.end_career < year:\n",
        "            self.end_career = year\n",
        "\n",
        "    def years_track_record(self):\n",
        "        return self.end_career - self.start_career\n",
        "\n",
        "    def __repr__(self):\n",
        "        return f\"{self.full_name}\"\n",
        "\n",
        "class Genre:\n",
        "    def __init__(self, name):\n",
        "        self.name = name\n",
        "        self.n_movies = 0\n",
        "\n",
        "    def __repr__(self):\n",
        "        return f\"{self.name}\"\n",
        "\n",
        "class Movie:\n",
        "    def __init__(self, title, year, cast, genres):\n",
        "        self.title = title\n",
        "        self.year = year\n",
        "        self.cast = cast\n",
        "        self.genres = genres\n",
        "        self.add_info()\n",
        "\n",
        "    def add_info(self):\n",
        "        for actor in self.cast:\n",
        "            actor.n_movies += 1\n",
        "        for genre in self.genres:\n",
        "            genre.n_movies += 1\n",
        "\n",
        "    def __repr__(self):\n",
        "        return f\"{self.title} ({self.year}) - {self.cast} - {self.genres}\""
      ],
      "metadata": {
        "id": "j2bCY7k9FdJW"
      },
      "execution_count": 39,
      "outputs": []
    },
    {
      "cell_type": "markdown",
      "source": [
        "## Misión 2: carga de datos"
      ],
      "metadata": {
        "id": "eJpzln3tDasK"
      }
    },
    {
      "cell_type": "code",
      "source": [
        "actors_dict = {}\n",
        "genres_dict = {}\n",
        "movies_dict = {}\n",
        "\n",
        "for movie in movies:\n",
        "    cast = []\n",
        "    genres = []\n",
        "    for actor in movie[\"cast\"]:\n",
        "        if actor not in actors_dict:\n",
        "            actors_dict[actor] = Actor(actor, movie[\"year\"])\n",
        "        else:\n",
        "            actors_dict[actor].update_track_record(movie[\"year\"])\n",
        "        cast.append(actors_dict[actor])\n",
        "    for genre in movie[\"genres\"]:\n",
        "        if genre not in genres_dict:\n",
        "            genres_dict[genre] = Genre(genre)\n",
        "        genres.append(genres_dict[genre])\n",
        "    if (movie[\"title\"], movie[\"year\"],tuple(cast)) not in movies_dict:\n",
        "        movies_dict[(movie[\"title\"], movie[\"year\"], tuple(cast))] = Movie(movie[\"title\"], movie[\"year\"], tuple(cast), genres)\n",
        "    else:\n",
        "        print(\"*\"*80)\n",
        "        print(f\"Película duplicada: {movie['title']} - ({movie['year']}) - {tuple(cast)} - {genres}\")\n",
        "        movie_found = movies_dict[(movie[\"title\"], movie[\"year\"], tuple(cast))]\n",
        "        print(f\"En el diccionario ya está: {movie_found}\")\n",
        "        print(\"*\"*80)"
      ],
      "metadata": {
        "colab": {
          "base_uri": "https://localhost:8080/"
        },
        "id": "4W1CaHQnGI02",
        "outputId": "da7dbbc6-aae9-49b0-ecf1-456d7b876daa"
      },
      "execution_count": 40,
      "outputs": [
        {
          "output_type": "stream",
          "name": "stdout",
          "text": [
            "********************************************************************************\n",
            "Película duplicada: The Prince and Betty - (1919) - (William Desmond, Mary Thurman) - [Comedy]\n",
            "En el diccionario ya está: The Prince and Betty (1919) - (William Desmond, Mary Thurman) - [Comedy]\n",
            "********************************************************************************\n",
            "********************************************************************************\n",
            "Película duplicada: The Virtuous Thief - (1919) - (Enid Bennett, Niles Welch) - [Drama]\n",
            "En el diccionario ya está: The Virtuous Thief (1919) - (Enid Bennett, Niles Welch) - [Drama]\n",
            "********************************************************************************\n",
            "********************************************************************************\n",
            "Película duplicada: The Wise Kid - (1922) - (Gladys Walton, David Butler) - [Comedy]\n",
            "En el diccionario ya está: The Wise Kid (1922) - (Gladys Walton, David Butler) - [Comedy]\n",
            "********************************************************************************\n",
            "********************************************************************************\n",
            "Película duplicada: The White Sister - (1923) - (Lillian Gish, Ronald Colman) - [Drama]\n",
            "En el diccionario ya está: The White Sister (1923) - (Lillian Gish, Ronald Colman) - [Drama]\n",
            "********************************************************************************\n",
            "********************************************************************************\n",
            "Película duplicada: Wild Bill Hickok Rides - (1942) - (Constance Bennett, Bruce Cabot) - [Western]\n",
            "En el diccionario ya está: Wild Bill Hickok Rides (1942) - (Constance Bennett, Bruce Cabot) - [Western]\n",
            "********************************************************************************\n",
            "********************************************************************************\n",
            "Película duplicada: The Rough, Tough West - (1952) - (Charles Starrett, Carolina Cotton) - [Western]\n",
            "En el diccionario ya está: The Rough, Tough West (1952) - (Charles Starrett, Carolina Cotton) - [Western]\n",
            "********************************************************************************\n"
          ]
        }
      ]
    },
    {
      "cell_type": "markdown",
      "source": [
        "## Misión 3: Consultas sobre los datos"
      ],
      "metadata": {
        "id": "261UW-gCDczP"
      }
    },
    {
      "cell_type": "markdown",
      "source": [
        "### Encuentra los 5 géneros más populares"
      ],
      "metadata": {
        "id": "uuV1DXV-DsYS"
      }
    },
    {
      "cell_type": "code",
      "source": [
        "def popular_genres(genres_dict):\n",
        "    sorted_list_genres = sorted(genres_dict.values(), key=lambda x: x.n_movies, reverse=True)\n",
        "    most_popular_genres = sorted_list_genres[:5]\n",
        "    print(\"Los 5 géneros más populares son:\")\n",
        "    for genre in most_popular_genres:\n",
        "        print(f\"{genre.name} hay {genre.n_movies} películas de este género\")\n",
        "popular_genres(genres_dict)"
      ],
      "metadata": {
        "colab": {
          "base_uri": "https://localhost:8080/"
        },
        "id": "r23WQYjgGORN",
        "outputId": "e69da020-faca-467b-b036-a6066b021b60"
      },
      "execution_count": 41,
      "outputs": [
        {
          "output_type": "stream",
          "name": "stdout",
          "text": [
            "Los 5 géneros más populares son:\n",
            "Drama hay 8742 películas de este género\n",
            "Comedy hay 7361 películas de este género\n",
            "Western hay 3011 películas de este género\n",
            "Crime hay 1499 películas de este género\n",
            "Horror hay 1166 películas de este género\n"
          ]
        }
      ]
    },
    {
      "cell_type": "markdown",
      "source": [
        "### Encuentra los 3 años con más películas estrenadas"
      ],
      "metadata": {
        "id": "6Ch-RMRJDw65"
      }
    },
    {
      "cell_type": "code",
      "source": [
        "def years_most_premiers(movies_dict):\n",
        "    premiers_dict = {}\n",
        "    for movie in movies_dict.values():\n",
        "        if movie.year not in premiers_dict:\n",
        "            premiers_dict[movie.year] = 0\n",
        "        premiers_dict[movie.year] += 1\n",
        "    sorted_list_years = sorted(premiers_dict.items(), key=lambda x: x[1], reverse=True)\n",
        "    list_years = sorted_list_years[:3]\n",
        "    print(\"Los 3 años con más películas estrenadas son:\")\n",
        "    for data in list_years:\n",
        "        print(f\"El año {data[0]} con {data[1]} películas producidas\")\n",
        "years_most_premiers(movies_dict)"
      ],
      "metadata": {
        "colab": {
          "base_uri": "https://localhost:8080/"
        },
        "id": "LKKTPzFgGQpW",
        "outputId": "e6ff59cd-3331-48a4-a7ea-d651ec955001"
      },
      "execution_count": 42,
      "outputs": [
        {
          "output_type": "stream",
          "name": "stdout",
          "text": [
            "Los 3 años con más películas estrenadas son:\n",
            "El año 1919 con 632 películas producidas\n",
            "El año 1925 con 572 películas producidas\n",
            "El año 1936 con 504 películas producidas\n"
          ]
        }
      ]
    },
    {
      "cell_type": "markdown",
      "source": [
        "### Encuentra los 5 actores con la trayectoria más larga"
      ],
      "metadata": {
        "id": "1K3-lvBrD24o"
      }
    },
    {
      "cell_type": "code",
      "source": [
        "def longer_track_record(actors_dict):\n",
        "    sorted_list_actors = sorted(actors_dict.values(), key=lambda x: x.years_track_record(), reverse=True)\n",
        "    list_actors = sorted_list_actors[:5]\n",
        "    print(\"Los 5 actores con trayectoria más larga son:\")\n",
        "    for actor in list_actors:\n",
        "        print(f\"{actor.full_name} con {actor.years_track_record()} años de trayectoria\")\n",
        "longer_track_record(actors_dict)"
      ],
      "metadata": {
        "colab": {
          "base_uri": "https://localhost:8080/"
        },
        "id": "PAxZh3hkGSnH",
        "outputId": "189a102d-5dcd-4834-fd36-cee8ab8dd722"
      },
      "execution_count": 43,
      "outputs": [
        {
          "output_type": "stream",
          "name": "stdout",
          "text": [
            "Los 5 actores con trayectoria más larga son:\n",
            ". con 101 años de trayectoria\n",
            "and con 98 años de trayectoria\n",
            "Harrison Ford con 98 años de trayectoria\n",
            "Gloria Stuart con 80 años de trayectoria\n",
            "Lillian Gish con 75 años de trayectoria\n"
          ]
        }
      ]
    },
    {
      "cell_type": "markdown",
      "source": [
        "### Encuentra el reparto que más se ha repetido en otras películas"
      ],
      "metadata": {
        "id": "uDjavHASD7fb"
      }
    },
    {
      "cell_type": "code",
      "source": [
        "def most_repeated_casts(movies_dict):\n",
        "    cast_dict = {}\n",
        "    for movie in movies_dict.values():\n",
        "        if len(movie.cast) >= 2:\n",
        "            if movie.cast not in cast_dict:\n",
        "                cast_dict[movie.cast] = 0\n",
        "            cast_dict[movie.cast] += 1\n",
        "        else:\n",
        "            continue\n",
        "    max_value = max(cast_dict.items(), key=lambda x: x[1])\n",
        "    print(f\"El reparto de una película que más se ha repetido es {max_value[0]} con {max_value[1]} repeticiones\")\n",
        "\n",
        "most_repeated_casts(movies_dict)"
      ],
      "metadata": {
        "colab": {
          "base_uri": "https://localhost:8080/"
        },
        "id": "B29MQrKaGUgV",
        "outputId": "2187ce44-b84d-431a-822a-8058b2f641a9"
      },
      "execution_count": 45,
      "outputs": [
        {
          "output_type": "stream",
          "name": "stdout",
          "text": [
            "El reparto de una película que más se ha repetido es (Harold Lloyd, Bebe Daniels) con 44 repeticiones\n"
          ]
        }
      ]
    }
  ]
}